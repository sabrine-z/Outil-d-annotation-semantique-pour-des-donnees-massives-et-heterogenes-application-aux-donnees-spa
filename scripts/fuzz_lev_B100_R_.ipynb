{
  "nbformat": 4,
  "nbformat_minor": 0,
  "metadata": {
    "colab": {
      "name": "fuzz_lev_B100/R.ipynb",
      "provenance": [],
      "collapsed_sections": []
    },
    "kernelspec": {
      "display_name": "Python 3",
      "name": "python3"
    },
    "language_info": {
      "name": "python"
    }
  },
  "cells": [
    {
      "cell_type": "code",
      "metadata": {
        "id": "uvKW0VkHznqQ"
      },
      "source": [
        "!pip install fuzzywuzzy"
      ],
      "execution_count": null,
      "outputs": []
    },
    {
      "cell_type": "code",
      "metadata": {
        "id": "fVrAHitP1GFu"
      },
      "source": [
        "!pip install Levenshtein"
      ],
      "execution_count": null,
      "outputs": []
    },
    {
      "cell_type": "code",
      "metadata": {
        "id": "xIr6ztn27Ktv"
      },
      "source": [
        "import numpy as np\n",
        "import regex as re"
      ],
      "execution_count": null,
      "outputs": []
    },
    {
      "cell_type": "code",
      "metadata": {
        "id": "a3bBD-ugYMCP"
      },
      "source": [
        "import pandas as pd"
      ],
      "execution_count": null,
      "outputs": []
    },
    {
      "cell_type": "code",
      "metadata": {
        "id": "a45M7_ZxgEnT"
      },
      "source": [
        "data = pd.read_csv(\"scrapped_data_from_NVS_P07+A05.csv\")\n",
        "data_en = pd.read_csv(\"terms_EN_Sabrine.csv\")"
      ],
      "execution_count": null,
      "outputs": []
    },
    {
      "cell_type": "code",
      "metadata": {
        "id": "WNO9tAETYp1s"
      },
      "source": [
        "L_ressource=[]\n",
        "dt=data.to_numpy()\n",
        "L_ressource = list(dt[0])\n",
        "print(L_ressource)"
      ],
      "execution_count": null,
      "outputs": []
    },
    {
      "cell_type": "code",
      "metadata": {
        "id": "csGSQyGYsbnQ"
      },
      "source": [
        "L_BioTex= list(data_en['term'])\n",
        "print(L_BioTex)"
      ],
      "execution_count": null,
      "outputs": []
    },
    {
      "cell_type": "code",
      "metadata": {
        "id": "XwQHbnjQ8bRF"
      },
      "source": [
        "def contains_num(s):\n",
        "  for i in s:\n",
        "    if i.isnumeric():\n",
        "      return True\n",
        "  return False\n",
        "contains_num(\"1000-m argo\")\n",
        "#s='18km sampling'\n",
        "#s.isalpha()"
      ],
      "execution_count": null,
      "outputs": []
    },
    {
      "cell_type": "code",
      "metadata": {
        "id": "ZNLAs9D8-chw"
      },
      "source": [
        "def clean_num(s):\n",
        "  l=s.split(\" \")\n",
        "  for i in l:\n",
        "    if contains_num(i):\n",
        "      l.remove(i)\n",
        "  return  \" \".join(l)\n",
        "clean_num('0–2000-m')\n"
      ],
      "execution_count": null,
      "outputs": []
    },
    {
      "cell_type": "code",
      "metadata": {
        "id": "FV-MM3BRIVg4"
      },
      "source": [
        "def mi3aw(s):\n",
        "  l=s.split()\n",
        "  if len(l)>1:\n",
        "    if len(l[0])>len(l[1]):\n",
        "      return(l[0])\n",
        "    else:\n",
        "      return(l[1])\n",
        "  else:\n",
        "    return(s)"
      ],
      "execution_count": null,
      "outputs": []
    },
    {
      "cell_type": "code",
      "metadata": {
        "id": "gmifWyfnIu2Z"
      },
      "source": [
        "L_BioTex.remove(np.nan)\n",
        "L_BioTex.remove(np.nan)"
      ],
      "execution_count": null,
      "outputs": []
    },
    {
      "cell_type": "code",
      "metadata": {
        "id": "UmcaweaV_8do"
      },
      "source": [
        "l=[i for i in L_BioTex if contains_num(i) and len(i)>3]\n",
        "l=[re.sub(\"\\d+\", \"\", i) for i in l]\n",
        "l=[mi3aw(i) for i in l]\n",
        "l=[i.replace(\"-\",\" \") for i in l]\n",
        "l=[i for i in l if len(i)>3]\n",
        "l.remove(\"b ax\")\n",
        "list(set(l))"
      ],
      "execution_count": null,
      "outputs": []
    },
    {
      "cell_type": "code",
      "metadata": {
        "id": "HTTiWIua9wah"
      },
      "source": [
        "clean=[clean_num(i) for i in L_BioTex if contains_num(i)==False]\n",
        "clean=[i for i in clean if i!=None]\n",
        "clean.append(\"ostm jason\")\n",
        "clean.remove(\"november\")\n",
        "clean.remove(\"december\")\n",
        "clean.remove(\"september\")\n",
        "clean.remove(\"october\")\n",
        "clean.remove(\"product\")\n",
        "clean.remove(\"respect\")\n",
        "clean.remove(\"today\")\n",
        "clean.remove(\"error\")\n",
        "clean.remove(\"uncertainty\")\n",
        "clean.remove(\"mean\")\n",
        "clean.remove(\"year\")\n",
        "clean.remove(\"part\")\n",
        "clean.remove(\"produce\")\n",
        "clean.remove(\"projects\")\n",
        "clean.remove(\"france\")\n",
        "clean.remove(\"type\")\n",
        "clean.remove(\"types\")\n",
        "clean.remove(\"variables\")\n",
        "clean.remove(\"adcp\")\n",
        "clean.remove(\"details\")\n",
        "clean.remove(\"database\")\n",
        "clean.remove(\"products\")\n",
        "clean.remove(\"fields\")\n",
        "clean.remove(\"mode\")\n",
        "clean.remove(\"time\")\n",
        "clean.remove(\"deviations\")\n",
        "clean.remove(\"program\")\n",
        "clean.remove(\"sampling\")\n",
        "clean.remove(\"administration\")\n",
        "clean.remove(\"australia\")\n",
        "clean.remove(\"conditions\")\n",
        "clean.remove(\"drift\")\n",
        "clean.remove(\"series\")\n",
        "clean.remove(\"april\")\n",
        "clean.remove(\"calls\")\n",
        "clean.remove(\"days\")\n",
        "clean.remove(\"files\")\n",
        "clean.remove(\"float\")\n",
        "clean.remove(\"observation\")\n",
        "clean.remove(\"fronts\")\n",
        "clean.remove(\"daily files\")\n",
        "clean.remove(\"analysis\")\n",
        "clean.remove(\"level\")\n",
        "clean.remove(\"compilation\")\n",
        "clean.remove(\"version\")\n",
        "clean.remove(\"validation\")\n",
        "clean.remove(\"window\")\n",
        "clean.remove(\"length\")\n",
        "clean.remove(\"sites\")\n",
        "clean.remove(\"characteristics\")\n",
        "clean.remove(\"procedures\")\n",
        "clean.remove(\"publication\")\n",
        "clean.remove(\"evolution\")\n",
        "clean.remove(\"division\")\n",
        "clean.remove(\"institut\")\n",
        "clean.remove(\"laboratory\")\n",
        "clean.remove(\"february\")\n",
        "clean.remove(\"march\")\n",
        "clean.remove(\"period\")\n",
        "clean.remove(\"ndjf\")\n",
        "clean.remove(\"project\")\n",
        "clean.remove(\"value\")\n",
        "clean.remove(\"ondjfm\")\n",
        "clean.remove(\"opportunity\")\n",
        "clean.remove(\"camp\")\n",
        "clean.remove(\"data\")\n",
        "clean.remove(\"computation\")\n",
        "clean.remove(\"content\")\n",
        "clean.remove(\"network\")\n",
        "clean.remove(\"update\")\n",
        "clean.remove(\"cycle\")\n",
        "clean.remove(\"date\")\n",
        "clean.remove(\"mission\")\n",
        "clean.remove(\"missions\")\n",
        "clean.remove(\"sources\")\n",
        "clean.remove(\"kinds\")\n",
        "clean.remove(\"change\")\n",
        "clean.remove(\"global\")\n",
        "clean.remove(\"weeks\")\n",
        "clean.remove(\"degree\")\n",
        "clean.remove(\"values\")\n",
        "clean.remove(\"research\")\n",
        "clean.remove(\"lines\")\n",
        "clean.remove(\"august\")\n",
        "clean.remove(\"check\")\n",
        "clean.remove(\"estimates\")\n",
        "clean.remove(\"datasets\")\n",
        "clean.remove(\"activity\")\n",
        "clean.remove(\"floats\")\n",
        "clean.remove(\"configuration\")\n",
        "clean.remove(\"databases\")\n",
        "clean.remove(\"enveloppes\")\n",
        "clean.remove(\"march-may\")\n",
        "clean.remove(\"metadata\")\n",
        "clean.remove(\"processing\")\n",
        "clean.remove(\"place\")\n",
        "clean.remove(\"position\")\n",
        "clean.remove(\"positions\")\n",
        "clean.remove(\"capabilities\")\n",
        "clean.remove(\"section\")\n",
        "clean.remove(\"archive\")\n",
        "clean.remove(\"calibration\")\n",
        "clean.remove(\"community\")\n",
        "clean.remove(\"method\")\n",
        "clean.remove(\"observations\")\n",
        "clean.remove(\"productivity\")\n",
        "clean.remove(\"range\")\n",
        "clean.remove(\"objectives\")\n",
        "clean.remove(\"operation\")\n",
        "clean.remove(\"process\")\n",
        "clean.remove(\"resolution\")\n",
        "clean.remove(\"support\")\n",
        "clean.remove(\"summer\")\n",
        "clean.remove(\"data sets\")\n",
        "clean.remove(\"joint effort\")\n",
        "clean.remove(\"key variables\")\n",
        "clean.remove(\"initiative\")\n",
        "clean.remove(\"processes\")\n",
        "clean.remove(\"studies\")\n",
        "clean.remove(\"cover\")\n",
        "clean.remove(\"qikiqtarjuaq\")\n",
        "clean.remove(\"role\")\n",
        "clean.remove(\"model\")\n",
        "clean.remove(\"stress\")\n",
        "clean.remove(\"results\")\n",
        "clean.remove(\"sets\")\n",
        "clean.remove(\"effort\")\n",
        "clean.remove(\"complete dataset\")\n",
        "clean.remove(\"delayed time\")\n",
        "clean.remove(\"float drift\")\n",
        "clean.remove(\"float drifts\")\n",
        "clean.remove(\"data quality\")\n",
        "clean.remove(\"interactive web\")\n",
        "clean.remove(\"joint archive\")\n",
        "clean.remove(\"large fraction\")\n",
        "clean.remove(\"long term\")\n",
        "clean.remove(\"real time\")\n",
        "clean.remove(\"research purposes\")\n",
        "clean.remove(\"time data\")\n",
        "clean.remove(\"web interface\")\n",
        "clean.remove(\"parameters\")\n",
        "clean.remove(\"drifts\")\n",
        "clean.remove(\"comparison\")\n",
        "clean.remove(\"correction\")\n",
        "clean.remove(\"fraction\")\n",
        "clean.remove(\"function\")\n",
        "clean.remove(\"hawaii\")\n",
        "clean.remove(\"inspection\")\n",
        "clean.remove(\"integration\")\n",
        "clean.remove(\"interface\")\n",
        "clean.remove(\"path\")\n",
        "clean.remove(\"profile\")\n",
        "clean.remove(\"purposes\")\n",
        "clean.remove(\"quality\")\n",
        "clean.remove(\"service\")\n",
        "clean.remove(\"software\")\n",
        "clean.remove(\"subset\")\n",
        "clean.remove(\"term\")\n",
        "clean.remove(\"transmission\")\n",
        "clean.remove(\"university\")\n",
        "clean.remove(\"variable\")\n",
        "clean.remove(\"windows\")\n",
        "clean.remove(\"austral summer\")\n",
        "clean.remove(\"annual summer\")\n",
        "clean.remove(\"years\")\n",
        "clean.remove(\"french supply\")\n",
        "clean.remove(\"oct nov\")\n",
        "clean.remove(\"website\")\n",
        "clean.remove(\"supply\")\n",
        "clean.remove(\"time series\")\n",
        "clean.remove(\"winter time\")\n",
        "clean.remove(\"intermediate product\")\n",
        "clean.remove(\"winter\")\n",
        "clean.remove(\"velocity\")\n",
        "clean.remove(\"delayed mode\")\n",
        "clean.remove(\"polar fronts\")\n",
        "clean.remove(\"probe type\")\n",
        "clean.remove(\"ondjfm period\")\n",
        "clean.remove(\"heating cycle\")\n",
        "clean.remove(\"individual xbt\")\n",
        "clean.remove(\"institut polaire\")\n",
        "clean.remove(\"observational dataset\")\n",
        "clean.remove(\"profile accuracy\")\n",
        "clean.remove(\"research laboratory\")\n",
        "clean.remove(\"sop network\")\n",
        "clean.remove(\"summer heating\")\n",
        "clean.remove(\"summer ondjfm\")\n",
        "clean.remove(\"weather conditions\")\n",
        "clean.remove(\"temperature profile\")\n",
        "clean.remove(\"temperature values\")\n",
        "clean.remove(\"xbt data\")\n",
        "clean.remove(\"accuracy\")\n",
        "clean.remove(\"thickness\")\n",
        "clean.remove(\"ctd data\")\n",
        "clean.remove(\"shear\")\n",
        "\n",
        "\n"
      ],
      "execution_count": null,
      "outputs": []
    },
    {
      "cell_type": "code",
      "metadata": {
        "id": "lvW7-lUpPYi2"
      },
      "source": [
        "clean+=l\n",
        "len(clean)\n",
        "clean=[i for i in clean if len(i)>3]\n",
        "\n",
        "clean"
      ],
      "execution_count": null,
      "outputs": []
    },
    {
      "cell_type": "code",
      "metadata": {
        "id": "JibdkDctg5il"
      },
      "source": [
        " L_ressource =[str(v).replace(\"_\",\" \") for v in L_ressource]\n",
        " L_ressource"
      ],
      "execution_count": null,
      "outputs": []
    },
    {
      "cell_type": "code",
      "metadata": {
        "id": "puc6tiiMzhRC"
      },
      "source": [
        "from fuzzywuzzy import process, fuzz\n",
        "\n",
        "tab=np.empty\n",
        "tab=['terme issue de Biotex','terme issue de ressources','Ratios']\n",
        "df = pd.DataFrame(columns=tab)\n",
        "s = 0\n",
        "for i in range(100) :\n",
        "  str2Match = clean[i]\n",
        "  print(\"pour le terme : \", clean[i])\n",
        "  str0=[]\n",
        "  for j in range (len(L_ressource)) :\n",
        "    str0.append(L_ressource[j]) \n",
        "  strOptions = str0\n",
        "  Ratios = process.extract(str2Match,strOptions, limit=100)\n",
        "  print(Ratios)\n",
        "  for k in range(len(Ratios)):\n",
        "    L = [clean[i], Ratios[k][0], Ratios[k][1]]\n",
        "    df.loc[s]=L\n",
        "    s = s + 1\n",
        "  # You can also select the string with the highest matching percentage\n",
        "  #highest = process.extractOne(str2Match,strOptions)\n",
        "  #print(highest)\n",
        "\n",
        "#df.to_excel('fuzz_B100_R500.xlsx')\n"
      ],
      "execution_count": null,
      "outputs": []
    },
    {
      "cell_type": "code",
      "metadata": {
        "id": "Kf-o-_ii-Sne"
      },
      "source": [
        "df.to_excel('fuzz_B100_R100.xlsx')"
      ],
      "execution_count": null,
      "outputs": []
    },
    {
      "cell_type": "code",
      "metadata": {
        "id": "uW-ejDWxgoAa"
      },
      "source": [
        "df"
      ],
      "execution_count": null,
      "outputs": []
    },
    {
      "cell_type": "code",
      "metadata": {
        "id": "vM6OICwUhSv6"
      },
      "source": [
        "df2=df.loc[df['Ratios']>=80 ]\n",
        "df2"
      ],
      "execution_count": null,
      "outputs": []
    },
    {
      "cell_type": "code",
      "metadata": {
        "id": "f3SGsaGRh2If"
      },
      "source": [
        "df2.to_excel('fuzz_B100_100_90.xlsx')"
      ],
      "execution_count": null,
      "outputs": []
    },
    {
      "cell_type": "code",
      "metadata": {
        "id": "nyITtKrO06ME"
      },
      "source": [
        "tab1=np.empty\n",
        "tab1=['terme issue de Biotex','terme issue de ressources','Ratios']\n",
        "df1 = pd.DataFrame(columns=tab1)\n",
        "s1 = 0\n",
        "import Levenshtein as lev\n",
        "def levCalclulate(str1, str2):\n",
        "    Distance = lev.distance(str1, str2)\n",
        "    #Ratio = 1 - lev.distance(str1, str2) / max(len(str1), len(str2))\n",
        "    Ratio = lev.ratio(str1, str2)\n",
        "    print(\"Levenshtein entre {0} et {1}\".format(str1, str2))\n",
        "    print(\"> Distance: {0}\\n> Ratio: {1}\\n\".format(Distance, Ratio))\n",
        "    return Ratio\n",
        "\n",
        "for i in range(100) :\n",
        "#for i in range(len(L_ressource)) :\n",
        "  str1 = clean[i]\n",
        "  print(\"pour le terme : \", clean[i])\n",
        "  for j in range(len(L_ressource)):\n",
        "    str2= L_ressource[j]\n",
        "    Ratios = levCalclulate(str1, str2)\n",
        "    print(Ratios)\n",
        "    L1 = [clean[i],L_ressource[j], Ratios]\n",
        "    df1.loc[s1]=L1\n",
        "    s1 = s1 + 1\n",
        "#df1.to_excel('lev_Ratio_B100_R(A05+P07).xlsx')"
      ],
      "execution_count": null,
      "outputs": []
    },
    {
      "cell_type": "code",
      "metadata": {
        "id": "r6ErGewI_N6f"
      },
      "source": [
        "df1"
      ],
      "execution_count": null,
      "outputs": []
    },
    {
      "cell_type": "code",
      "metadata": {
        "id": "2GFKl4c9nBlj"
      },
      "source": [
        "#df1.drop(df1.loc[df1['Ratios']<=0.5].index, inplace=True)\n",
        "#df1\n",
        "df1.to_excel('lev_ratio_B100_R100.xlsx')"
      ],
      "execution_count": null,
      "outputs": []
    },
    {
      "cell_type": "code",
      "metadata": {
        "id": "OQG5B2RzttBW"
      },
      "source": [
        "df22=df1.loc[df1['Ratios']>=0.8 ]\n",
        "df22"
      ],
      "execution_count": null,
      "outputs": []
    },
    {
      "cell_type": "code",
      "metadata": {
        "id": "Lr0Rb6z9p2Yo"
      },
      "source": [
        "df22.to_excel('lev_ratio_B100_R100_80.xlsx')"
      ],
      "execution_count": null,
      "outputs": []
    },
    {
      "cell_type": "code",
      "metadata": {
        "id": "D9v8abSndqLZ"
      },
      "source": [
        "import spacy\n",
        "import pandas as pd\n",
        "\n",
        "sp = spacy.load('en_core_web_sm')"
      ],
      "execution_count": null,
      "outputs": []
    },
    {
      "cell_type": "code",
      "metadata": {
        "id": "263yJt93llE3"
      },
      "source": [
        "!pip install nltk"
      ],
      "execution_count": null,
      "outputs": []
    },
    {
      "cell_type": "code",
      "metadata": {
        "id": "kL54KLBxmEI2"
      },
      "source": [
        "import nltk\n",
        "nltk.download(\"book\")"
      ],
      "execution_count": null,
      "outputs": []
    },
    {
      "cell_type": "code",
      "metadata": {
        "id": "hyG2ZyaemwyK"
      },
      "source": [
        "clean"
      ],
      "execution_count": null,
      "outputs": []
    },
    {
      "cell_type": "code",
      "metadata": {
        "id": "SVcSSSgnd0bl"
      },
      "source": [
        "from nltk import pos_tag"
      ],
      "execution_count": null,
      "outputs": []
    },
    {
      "cell_type": "code",
      "metadata": {
        "id": "ycuJ2slmrWIt"
      },
      "source": [
        "s=[sentences.split() for sentences in clean]\n",
        "s"
      ],
      "execution_count": null,
      "outputs": []
    },
    {
      "cell_type": "code",
      "metadata": {
        "id": "zUywv4RMU3yE"
      },
      "source": [
        "#v=[sentences.split() for sentences in L_ressource]\n",
        "#v"
      ],
      "execution_count": null,
      "outputs": []
    },
    {
      "cell_type": "code",
      "metadata": {
        "id": "b4E4vIP04k4R"
      },
      "source": [
        "s1=[pos_tag(sent1) for sent1 in s]\n",
        "s1"
      ],
      "execution_count": null,
      "outputs": []
    },
    {
      "cell_type": "code",
      "metadata": {
        "id": "IO4I1g7B5TAM"
      },
      "source": [
        "#v1=[pos_tag(sent) for sent in v]\n",
        "#v1"
      ],
      "execution_count": null,
      "outputs": []
    },
    {
      "cell_type": "code",
      "metadata": {
        "id": "Uh4X2tutleOL"
      },
      "source": [
        "#list1=eval(str(v1).replace(\"(\",\"\").replace(\")\",\"\"))"
      ],
      "execution_count": null,
      "outputs": []
    },
    {
      "cell_type": "code",
      "metadata": {
        "id": "2NRyWHXFb37p"
      },
      "source": [
        "list2=eval(str(s1).replace(\"(\",\"\").replace(\")\",\"\"))"
      ],
      "execution_count": null,
      "outputs": []
    },
    {
      "cell_type": "code",
      "metadata": {
        "id": "FI06YTmu4zvC"
      },
      "source": [
        "#dt1=pd.DataFrame(list1)\n",
        "#df.info()\n",
        "dt2=pd.DataFrame(list2)"
      ],
      "execution_count": null,
      "outputs": []
    },
    {
      "cell_type": "code",
      "metadata": {
        "id": "cdpkfKBwhGMz"
      },
      "source": [
        "#dt1.columns=['Col1','Col2','Col3','Col4','Col5','Col6','Col7','Col8'] \n",
        "dt2.columns=['Col1','Col2','Col3','Col4'] \n"
      ],
      "execution_count": null,
      "outputs": []
    },
    {
      "cell_type": "code",
      "metadata": {
        "id": "G-Iji9vjhNUF"
      },
      "source": [
        "dt1['terme issus de ressources']=dt1['Col1']+\" \"+dt1['Col3']+\" \"+dt1['Col5']+\" \"+dt1['Col7']\n",
        "dt1['partron']=dt1['Col2']+\" \"+dt1['Col4']+\" \"+dt1['Col6']+\" \"+dt1['Col8']\n",
        "#dt1.fillna(\"\",inplace=True)\n",
        "dt1['tête']=\"\"\n",
        "dt1\n"
      ],
      "execution_count": null,
      "outputs": []
    },
    {
      "cell_type": "code",
      "metadata": {
        "id": "HMWNPbidcMC-"
      },
      "source": [
        "dt2['terme issus de Biotex']=dt2['Col1']+\" \"+dt2['Col3']\n",
        "dt2['partron']=dt2['Col2']+\" \"+dt2['Col4']\n",
        "#dt2.fillna(\"\",inplace=True)\n",
        "dt2"
      ],
      "execution_count": null,
      "outputs": []
    },
    {
      "cell_type": "code",
      "metadata": {
        "id": "LOMW78PEJOC5"
      },
      "source": [
        "def transform1(df):\n",
        "  if (df['partron']=='NN   ') or (df['partron']=='NNP NN CD ')or (df['partron']=='NNP CC NN ') or (df['partron']=='NNS   ') or (df['partron']=='NNP JJ NN ')or (df['partron']=='NNP JJ NN ')or (df['partron']=='NNP NN CC NN')or (df['partron']=='NN NN  ') :                                                                                                                         \n",
        "    return df['Col1']\n",
        "  if (df['partron']=='NNP NN  ') or (df['partron']=='JJ NNS  ')or (df['partron']=='JJ NN  ')or (df['partron']=='NNP NNP  ')or (df['partron']=='JJ NNS  ')or (df['partron']=='VBN NNS  ')or (df['partron']=='IN NN  '):\n",
        "    return df['Col3']\n",
        "  if (df['partron']=='NN VBG') or (df['partron']=='VBG   ') or (df['partron']=='JJ   ') or (df['partron']=='NNS VBP') or (df['partron']=='RB   ') or (df['partron']=='VB   ')or (df['partron']=='NN NNS  '):\n",
        "    return df['Col1']"
      ],
      "execution_count": null,
      "outputs": []
    },
    {
      "cell_type": "code",
      "metadata": {
        "id": "U5lTC9ndXXWw"
      },
      "source": [
        "def transform(df):\n",
        "  if (df['partron']=='NN ') or (df['partron']=='NNS ')or (df['partron']=='NNP ') or (df['partron']=='NN VBG') or (df['partron']=='VBG ') or (df['partron']=='JJ ') or (df['partron']=='NNS VBP') :\n",
        "    return df['Col1']\n",
        "  if (df['partron']=='NN NN')or (df['partron']=='NNS NNS') or (df['partron']=='NN NNS')or (df['partron']=='NN NNP ') or (df['partron']=='NNS NN') or (df['partron']=='NNP NN') or (df['partron']=='JJ NN') or (df['partron']=='JJ NNS') or (df['partron']=='JJ NNP') or (df['partron']=='VBN NN') or (df['partron']=='VBG NNS')or (df['partron']=='VBG NN') or (df['partron']=='RB NNS')or (df['partron']=='RB NNP')or (df['partron']=='RB JJ')or (df['partron']=='RB NN'):\n",
        "    return df['Col3']\n",
        "  if (df['partron']=='VBG ') or (df['partron']=='JJ ') or (df['partron']=='NNS VBP '):\n",
        "    return df['Col1']"
      ],
      "execution_count": null,
      "outputs": []
    },
    {
      "cell_type": "code",
      "metadata": {
        "id": "EKF_DiTzY4N_"
      },
      "source": [
        "dt2.partron.unique().tolist()"
      ],
      "execution_count": null,
      "outputs": []
    },
    {
      "cell_type": "code",
      "metadata": {
        "id": "gx0CeF7LXlSb"
      },
      "source": [
        "dt2['tête'] = dt2.apply(transform, axis=1)\n"
      ],
      "execution_count": null,
      "outputs": []
    },
    {
      "cell_type": "code",
      "metadata": {
        "id": "ygDkupuAXm2A"
      },
      "source": [
        "dt2"
      ],
      "execution_count": null,
      "outputs": []
    },
    {
      "cell_type": "code",
      "metadata": {
        "id": "-QniXNeWdh_O"
      },
      "source": [
        "dt2.to_csv('Tête_B.CSV')\n",
        "dt2.to_excel('Tête_B.xlsx')"
      ],
      "execution_count": null,
      "outputs": []
    }
  ]
}