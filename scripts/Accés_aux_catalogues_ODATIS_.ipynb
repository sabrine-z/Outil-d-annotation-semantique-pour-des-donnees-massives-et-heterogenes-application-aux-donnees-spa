{
  "nbformat": 4,
  "nbformat_minor": 0,
  "metadata": {
    "colab": {
      "name": "Accés_aux_catalogues_ODATIS.ipynb",
      "provenance": [],
      "collapsed_sections": []
    },
    "kernelspec": {
      "name": "python3",
      "display_name": "Python 3"
    },
    "language_info": {
      "name": "python"
    }
  },
  "cells": [
    {
      "cell_type": "markdown",
      "metadata": {
        "id": "atmMh4QsTLbf"
      },
      "source": [
        "Installation des packages\n"
      ]
    },
    {
      "cell_type": "code",
      "metadata": {
        "id": "GEkrjdsSuKov"
      },
      "source": [
        "!apt update\n",
        "!apt install chromium-chromedriver\n",
        "!pip install selenium\n",
        "!pip install langdetect"
      ],
      "execution_count": null,
      "outputs": []
    },
    {
      "cell_type": "code",
      "metadata": {
        "id": "hUqE0jIhuhEU"
      },
      "source": [
        "from bs4 import BeautifulSoup\n",
        "import pandas as pd\n",
        "from selenium import webdriver\n",
        "from time import sleep\n",
        "from langdetect import detect\n",
        "from IPython.display import display, HTML\n",
        "import json\n",
        "\n",
        "options = webdriver.ChromeOptions()\n",
        "options.add_argument('--headless')\n",
        "options.add_argument('--no-sandbox')\n",
        "options.add_argument('--disable-dev-shm-usage')\n",
        "# # open it, go to a website, and get results\n",
        "driver = webdriver.Chrome('chromedriver',options=options)"
      ],
      "execution_count": null,
      "outputs": []
    },
    {
      "cell_type": "markdown",
      "metadata": {
        "id": "ym9DgsIDTTL1"
      },
      "source": [
        "Parcourir les fiches de métadonnées des catalogues ODATIS\n"
      ]
    },
    {
      "cell_type": "code",
      "metadata": {
        "id": "h6jiA3lkcDx6"
      },
      "source": [
        "link_list=[(1,30),(31,60),(61,90),(91,120),(121,150)]\n",
        "\n",
        "link_EN=[]\n",
        "title_EN=[]\n",
        "abstract_EN=[]\n",
        "\n",
        "link_FR=[]\n",
        "title_FR=[]\n",
        "abstract_FR=[]\n",
        "\n",
        "final_dic_EN = {}\n",
        "final_dic_FR = {}\n",
        "i=1\n",
        "for element in link_list:\n",
        "  source='https://www.odatis-ocean.fr/donnees-et-services/acces-aux-donnees/catalogue-complet#/search?fast=index&_content_type=json&from={}&to={}&sortBy=title&sortOrder=reverse'.format(element[0],element[1])\n",
        "  print (source)\n",
        "  driver.get(source)\n",
        "  sleep(5)\n",
        "  soup = BeautifulSoup(driver.page_source, \"html.parser\")\n",
        "  table_rows=soup.find_all(\"a\",class_=\"ng-binding ng-isolate-scope\")\n",
        "  #print (table_rows)\n",
        "\n",
        "  for row in table_rows:\n",
        "      print ('article n°: ',i)\n",
        "      #EXTRAIRE LINKS\n",
        "      link = str(row).find(\"href\")\n",
        "      sublink=str(row)[link+6:].split()[0].replace('\"',\"\")\n",
        "      links=\"https://www.odatis-ocean.fr\"+sublink\n",
        "      print (links)\n",
        "\n",
        "      driver.get(links)\n",
        "      sleep(5)\n",
        "      #EXTRAIRE TITRE\n",
        "      soup = BeautifulSoup(driver.page_source, 'html.parser')\n",
        "      for title in (soup.find_all(\"div\",class_='col-md-8 gn-title ng-binding')):\n",
        "          title_=title.get_text().strip()\n",
        "      #EXTRAIRET LES TEXTES\n",
        "      for abstract in (soup.find_all(\"div\",class_='gn-abstract')):        \n",
        "          abstract_=abstract.get_text().strip()\n",
        "      #Detection de la langue\n",
        "      lang=detect(abstract_)\n",
        "      if lang=='en':\n",
        "\n",
        "        link_EN.append(links)\n",
        "        title_EN.append(title_)\n",
        "        abstract_EN.append(abstract_)\n",
        "      else:\n",
        "        link_FR.append(links)\n",
        "        title_FR.append(title_)\n",
        "        abstract_FR.append(abstract_)\n",
        "      \n",
        "      i=i+1\n",
        "      \n",
        "\n",
        "\n",
        "final_dic_EN['Link']=link_EN\n",
        "final_dic_EN['Title']=title_EN\n",
        "final_dic_EN['Abstract']=abstract_EN\n",
        "\n",
        "final_dic_FR['Lien']=link_FR\n",
        "final_dic_FR['Titre']=title_FR\n",
        "final_dic_FR['Abstrait']=abstract_FR\n",
        "\n",
        "with open(\"final_output_ODATIS_EN.json\", 'w') as fich:\n",
        "        json.dump(final_dic_EN, fich)\n",
        "\n",
        "with open(\"final_output_ODATIS_FR.json\", 'w') as fich:\n",
        "        json.dump(final_dic_FR, fich)"
      ],
      "execution_count": null,
      "outputs": []
    },
    {
      "cell_type": "code",
      "metadata": {
        "id": "Yqr9Ua2gysw3"
      },
      "source": [
        "#créer des fichiers csv\n",
        "def pretty_print(df):\n",
        "    return display(HTML(df.to_html()))\n",
        "\n",
        "df_EN = pd.DataFrame(final_dic_EN)\n",
        "pretty_print(df_EN)\n",
        "\n",
        "print ('///////////////////////////////////////////////////////////////////////////////////////////////////////////////////////////////////////////////////////')\n",
        "df_FR = pd.DataFrame(final_dic_FR)\n",
        "pretty_print(df_FR)\n",
        "\n",
        "df_EN.to_csv(r'scrapped_data_from_ODATIS_EN.csv',index=False)\n",
        "df_FR.to_csv(r'scrapped_data_from_ODATIS_FR.csv',index=False)"
      ],
      "execution_count": null,
      "outputs": []
    },
    {
      "cell_type": "code",
      "metadata": {
        "id": "vaEpodmyiTor"
      },
      "source": [
        "#creer des fichiers txt\n",
        "def create_corpus_from_txt(list_of_text : list, outputfn=\"output.txt\"):\n",
        "  \"\"\"\n",
        "  Transform a corpus (based on a list of str) into BiotexFormat\n",
        "  \n",
        "  Parameters\n",
        "  ----------\n",
        "  list_of_text : list\n",
        "      list of stre\n",
        "  outputfn : str, optional\n",
        "      output filename (the default is \"output.txt\")\n",
        "  \n",
        "  \"\"\"\n",
        "\n",
        "  corpus=\"\"\n",
        "  sep=\"\\n##########END##########\\n\"\n",
        "  corpus = sep.join(list_of_text)\n",
        "  open(outputfn,'w').write((corpus+sep).strip())\n",
        "\n",
        "#create_corpus_from_txt(data[\"text2\"].to_list(),outputfn=\"output.txt\")\n",
        "create_corpus_from_txt(df_EN.to_list(),outputfn=\"outputfr.txt\")\n",
        "create_corpus_from_txt(df_FR.to_list(),outputfn=\"outputen.txt\")"
      ],
      "execution_count": null,
      "outputs": []
    }
  ]
}