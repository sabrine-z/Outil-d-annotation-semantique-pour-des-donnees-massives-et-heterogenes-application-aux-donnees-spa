{
  "nbformat": 4,
  "nbformat_minor": 0,
  "metadata": {
    "colab": {
      "name": "combinaison_des_deux_mesures.ipynb",
      "provenance": []
    },
    "kernelspec": {
      "name": "python3",
      "display_name": "Python 3"
    },
    "language_info": {
      "name": "python"
    }
  },
  "cells": [
    {
      "cell_type": "code",
      "metadata": {
        "id": "GQynw_yrjRZe"
      },
      "source": [
        "!pip install Levenshtein"
      ],
      "execution_count": null,
      "outputs": []
    },
    {
      "cell_type": "code",
      "metadata": {
        "id": "JUhT9hd5jU9T"
      },
      "source": [
        "!pip install fuzzywuzzy"
      ],
      "execution_count": null,
      "outputs": []
    },
    {
      "cell_type": "code",
      "metadata": {
        "id": "SE_pXWgAXbVl"
      },
      "source": [
        "import pandas as pd\n",
        "import numpy as np"
      ],
      "execution_count": null,
      "outputs": []
    },
    {
      "cell_type": "code",
      "metadata": {
        "id": "O01MrPUCfVTE"
      },
      "source": [
        "db= pd.read_csv('Tête_B.CSV')\n",
        "dr= pd.read_csv('scrapped_data_from_NVS_P07+A05.csv')"
      ],
      "execution_count": null,
      "outputs": []
    },
    {
      "cell_type": "code",
      "metadata": {
        "id": "0i5KeIR7eCQq"
      },
      "source": [
        "db"
      ],
      "execution_count": null,
      "outputs": []
    },
    {
      "cell_type": "code",
      "metadata": {
        "id": "DtFeB7iEfE4s"
      },
      "source": [
        "L_B= list(db['tête'])\n",
        "print(L_B)"
      ],
      "execution_count": null,
      "outputs": []
    },
    {
      "cell_type": "code",
      "metadata": {
        "id": "wOkVqxAofygu"
      },
      "source": [
        "L_B2= list(db['terme issus de Biotex'])\n",
        "print(L_B2)"
      ],
      "execution_count": null,
      "outputs": []
    },
    {
      "cell_type": "code",
      "metadata": {
        "id": "6MwYt6lfmDY5"
      },
      "source": [
        "L_ressource=[]\n",
        "dt=dr.to_numpy()\n",
        "L_ressource = list(dt[0])\n",
        "print(L_ressource)"
      ],
      "execution_count": null,
      "outputs": []
    },
    {
      "cell_type": "code",
      "metadata": {
        "id": "qIts_5POeXqs"
      },
      "source": [
        " L_ressource =[str(v).replace(\"_\",\" \") for v in L_ressource]\n",
        " L_ressource"
      ],
      "execution_count": null,
      "outputs": []
    },
    {
      "cell_type": "code",
      "metadata": {
        "id": "WBQ59YadmRkE"
      },
      "source": [
        "L_R1= list(dr['termes issus de ressources'])\n",
        "print(L_R1)"
      ],
      "execution_count": null,
      "outputs": []
    },
    {
      "cell_type": "code",
      "metadata": {
        "id": "CNr0VUqcJ9ae"
      },
      "source": [
        "def normalize_space(s):\n",
        "    \"\"\"Return s stripped of leading/trailing whitespace\n",
        "    and with internal runs of whitespace replaced by a single SPACE\"\"\"\n",
        "    # This should be a str method 🙁\n",
        "    return ' '.join(s.split())"
      ],
      "execution_count": null,
      "outputs": []
    },
    {
      "cell_type": "code",
      "metadata": {
        "id": "Uz3dCgrQL50x"
      },
      "source": [
        "LRF = [normalize_space(i) for i in L_R1]\n",
        "\n",
        "LRF"
      ],
      "execution_count": null,
      "outputs": []
    },
    {
      "cell_type": "code",
      "metadata": {
        "id": "PMdnLfMagHjc"
      },
      "source": [
        "tab1=np.empty\n",
        "tab1=['terme issue de Biotex','tête','ressource associée']\n",
        "df1 = pd.DataFrame(columns=tab1)\n",
        "s1 = 0\n",
        "for i in range(100):\n",
        "  for j in range(200):\n",
        "    if (L_ressource[j].find(L_B[i]))>0:\n",
        "      L1 = [L_B2[i],L_B[i],L_ressource[j]]\n",
        "      df1.loc[s1]=L1\n",
        "      s1 = s1 + 1\n",
        "    "
      ],
      "execution_count": null,
      "outputs": []
    },
    {
      "cell_type": "code",
      "metadata": {
        "id": "QAh3P6MgjZj_"
      },
      "source": [
        "df1"
      ],
      "execution_count": null,
      "outputs": []
    },
    {
      "cell_type": "code",
      "metadata": {
        "id": "EAIO_nSejfC9"
      },
      "source": [
        "df1.to_excel('résultat_syn_B100_R200.xlsx')"
      ],
      "execution_count": null,
      "outputs": []
    },
    {
      "cell_type": "code",
      "metadata": {
        "id": "9ZdVWW7OEoFi"
      },
      "source": [
        "df1.to_csv('résultat_syn_B100_R200.csv')"
      ],
      "execution_count": null,
      "outputs": []
    },
    {
      "cell_type": "markdown",
      "metadata": {
        "id": "iydQMZdTfRw5"
      },
      "source": [
        "**Combinaison des deux mesures**"
      ]
    },
    {
      "cell_type": "markdown",
      "metadata": {
        "id": "b2LPmRs4fr3i"
      },
      "source": [
        "FuzzyWuzzy"
      ]
    },
    {
      "cell_type": "code",
      "metadata": {
        "id": "gnNpM0YRjHep"
      },
      "source": [
        "from fuzzywuzzy import process, fuzz\n",
        "\n",
        "tab=np.empty\n",
        "tab=['terme issu de Biotex','tête du terme ','terme issu de ressources','Ratios ']\n",
        "df = pd.DataFrame(columns=tab)\n",
        "s = 0\n",
        "for i in range(100) :\n",
        "  str2Match = L_B[i]\n",
        "  print(\"pour le terme : \", L_B[i])\n",
        "  str0=[]\n",
        "  for j in range (200) :\n",
        "    str0.append(L_ressource[j]) \n",
        "  strOptions = str0\n",
        "  Ratios = process.extract(str2Match,strOptions, limit=100)\n",
        "  print(Ratios)\n",
        "  for k in range(len(Ratios)):\n",
        "    L2 = [L_B2[i],L_B[i], Ratios[k][0], Ratios[k][1]]\n",
        "    df.loc[s]=L2\n",
        "    s = s + 1\n",
        "  # You can also select the string with the highest matching percentage\n",
        "  #highest = process.extractOne(str2Match,strOptions)\n",
        "  #print(highest)"
      ],
      "execution_count": null,
      "outputs": []
    },
    {
      "cell_type": "code",
      "metadata": {
        "id": "uks3yMfEArHN"
      },
      "source": [
        "df"
      ],
      "execution_count": null,
      "outputs": []
    },
    {
      "cell_type": "code",
      "metadata": {
        "id": "qErU9JnlnGCm"
      },
      "source": [
        "df.to_excel('fuzz_syn_B100_RR200.xlsx')"
      ],
      "execution_count": null,
      "outputs": []
    },
    {
      "cell_type": "markdown",
      "metadata": {
        "id": "aIgN1auQfLSE"
      },
      "source": [
        "evaluation des résultats\n"
      ]
    },
    {
      "cell_type": "code",
      "metadata": {
        "id": "ZMEM44ioqfwF"
      },
      "source": [
        "df11=df.loc[df['Ratios ']>=90]\n",
        "df11"
      ],
      "execution_count": null,
      "outputs": []
    },
    {
      "cell_type": "code",
      "metadata": {
        "id": "207THkIZ9mQ1"
      },
      "source": [
        "df11.to_excel('fuzz_syn_B100_RR200_90.xlsx')"
      ],
      "execution_count": null,
      "outputs": []
    },
    {
      "cell_type": "code",
      "metadata": {
        "id": "x2psazY89SHT"
      },
      "source": [
        "df1.drop(df1.loc[df1['Ratios']<=0.5].index, inplace=True)\n",
        "df1\n",
        "#df1.to_excel('lev_ratio_B100_R_50.xlsx')"
      ],
      "execution_count": null,
      "outputs": []
    },
    {
      "cell_type": "markdown",
      "metadata": {
        "id": "WWIGnFebfYli"
      },
      "source": [
        "Levenshtein"
      ]
    },
    {
      "cell_type": "code",
      "metadata": {
        "id": "68yCN5runL_1"
      },
      "source": [
        "tab2=np.empty\n",
        "tab2=['terme issu de Biotex','tête du terme ','terme issu de ressources','Ratios']\n",
        "df2 = pd.DataFrame(columns=tab2)\n",
        "s2 = 0\n",
        "import Levenshtein as lev\n",
        "def levCalclulate(str1, str2):\n",
        "    Distance = lev.distance(str1, str2)\n",
        "    #Ratio = 1 - lev.distance(str1, str2) / max(len(str1), len(str2))\n",
        "    Ratio = lev.ratio(str1, str2)\n",
        "    print(\"Levenshtein entre {0} et {1}\".format(str1, str2))\n",
        "    print(\"> Distance: {0}\\n> Ratio: {1}\\n\".format(Distance, Ratio))\n",
        "    return Ratio\n",
        "\n",
        "for i in range(100) :\n",
        "  str1 = L_B[i]\n",
        "  print(\"pour le terme : \", L_B2[i])\n",
        "#str1= 'Air humidity'\n",
        "  for j in range(200):\n",
        "    str2= L_ressource[j]\n",
        "    Ratios = levCalclulate(str1, str2)\n",
        "    print(Ratios)\n",
        "    #for j in range(len(L_R)):\n",
        "      #str2= L_R[j]\n",
        "      #Ratios = levCalclulate(str1, str2)\n",
        "      #print(Ratios)\n",
        "    L1 = [L_B2[i],L_B[i],L_ressource[j], Ratios]\n",
        "    df2.loc[s2]=L1\n",
        "    s2 = s2 + 1"
      ],
      "execution_count": null,
      "outputs": []
    },
    {
      "cell_type": "code",
      "metadata": {
        "id": "yglijPq6maMX"
      },
      "source": [
        "df2"
      ],
      "execution_count": null,
      "outputs": []
    },
    {
      "cell_type": "code",
      "metadata": {
        "id": "D45Wef57mRh-"
      },
      "source": [
        "df2.to_excel('lev_syn_B100_RR200.xlsx')"
      ],
      "execution_count": null,
      "outputs": []
    },
    {
      "cell_type": "markdown",
      "metadata": {
        "id": "WgIPTp0jffVl"
      },
      "source": [
        "évaluation des résultats"
      ]
    },
    {
      "cell_type": "code",
      "metadata": {
        "id": "6MKoOZkJmgIg"
      },
      "source": [
        "df22=df2.loc[df2['Ratios']>=0.8]\n",
        "df22"
      ],
      "execution_count": null,
      "outputs": []
    },
    {
      "cell_type": "code",
      "metadata": {
        "id": "de7dXSk9snxw"
      },
      "source": [
        "len(df22)"
      ],
      "execution_count": null,
      "outputs": []
    },
    {
      "cell_type": "code",
      "metadata": {
        "id": "TQwdctZemisb"
      },
      "source": [
        "df22.to_excel('lev_syn_B100_RR200_80.xlsx')"
      ],
      "execution_count": null,
      "outputs": []
    }
  ]
}