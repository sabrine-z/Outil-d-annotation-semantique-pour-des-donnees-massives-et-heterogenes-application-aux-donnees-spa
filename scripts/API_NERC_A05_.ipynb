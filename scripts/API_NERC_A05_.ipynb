{
  "nbformat": 4,
  "nbformat_minor": 0,
  "metadata": {
    "colab": {
      "name": "API_NERC_A05",
      "provenance": []
    },
    "kernelspec": {
      "name": "python3",
      "display_name": "Python 3"
    },
    "language_info": {
      "name": "python"
    }
  },
  "cells": [
    {
      "cell_type": "markdown",
      "metadata": {
        "id": "OpB7r0jXr7e8"
      },
      "source": [
        "Parcourir : http://vocab.nerc.ac.uk/collection/A05/current/ pour obtenir un fichier excel contenant tous les links de 'Identifier'"
      ]
    },
    {
      "cell_type": "code",
      "metadata": {
        "id": "rIDjZExsMKDl"
      },
      "source": [
        "!pip install requests"
      ],
      "execution_count": null,
      "outputs": []
    },
    {
      "cell_type": "code",
      "metadata": {
        "id": "B8QGQ4Ig4SWG"
      },
      "source": [
        "import requests\n"
      ],
      "execution_count": null,
      "outputs": []
    },
    {
      "cell_type": "code",
      "metadata": {
        "id": "F7GtcKOLJiTy"
      },
      "source": [
        "response = requests.get(\"http://vocab.nerc.ac.uk/collection/A05/current/?_profile=skos&_mediatype=application/json\")\n",
        "print(response.text)"
      ],
      "execution_count": null,
      "outputs": []
    },
    {
      "cell_type": "code",
      "metadata": {
        "id": "njNlydef4UG6"
      },
      "source": [
        "print(response.json())"
      ],
      "execution_count": null,
      "outputs": []
    },
    {
      "cell_type": "code",
      "metadata": {
        "id": "3aAZBWZ3hgCR"
      },
      "source": [
        "df=response.json()"
      ],
      "execution_count": null,
      "outputs": []
    },
    {
      "cell_type": "code",
      "metadata": {
        "id": "CnQ9Jq3ho28w"
      },
      "source": [
        "#OUVRIR LES PAGES EN FORMAT JSON\n",
        "import json\n",
        " \n",
        "\n",
        "with open(\"nerc.json\", \"w\") as file:\n",
        "    json.dump(df, file)"
      ],
      "execution_count": null,
      "outputs": []
    },
    {
      "cell_type": "code",
      "metadata": {
        "id": "2-fKXEuPmQod"
      },
      "source": [
        "import pandas as pd\n",
        "\n",
        "data = pd.read_json('nerc.json')"
      ],
      "execution_count": null,
      "outputs": []
    },
    {
      "cell_type": "code",
      "metadata": {
        "id": "PC8-0PKEhttT"
      },
      "source": [
        "data.to_csv ('Nerc.csv', index=False)"
      ],
      "execution_count": null,
      "outputs": []
    },
    {
      "cell_type": "code",
      "metadata": {
        "id": "Bru_bEKfprci"
      },
      "source": [
        "data1=pd.read_csv('Nerc.csv')"
      ],
      "execution_count": null,
      "outputs": []
    },
    {
      "cell_type": "code",
      "metadata": {
        "id": "XhBTdZaip2oJ"
      },
      "source": [
        "print(data1)"
      ],
      "execution_count": null,
      "outputs": []
    },
    {
      "cell_type": "code",
      "metadata": {
        "id": "qYiKqPo_p9ii"
      },
      "source": [
        "data2 = data1.to_excel('nerc_api.xlsx', index= False)"
      ],
      "execution_count": null,
      "outputs": []
    },
    {
      "cell_type": "markdown",
      "metadata": {
        "id": "gjohkTDVsTs1"
      },
      "source": [
        "Parcourir  le fichier excel pour extraire tous les informations \n"
      ]
    },
    {
      "cell_type": "code",
      "metadata": {
        "id": "dD8citIOsiY9"
      },
      "source": [
        "dt = pd.read_csv('Nerc.csv')"
      ],
      "execution_count": null,
      "outputs": []
    },
    {
      "cell_type": "code",
      "metadata": {
        "colab": {
          "base_uri": "https://localhost:8080/",
          "height": 222
        },
        "id": "oaUKuuLXzrMJ",
        "outputId": "12cb8f08-f556-47ec-a3ac-26b4a0df75ff"
      },
      "source": [
        "dt.head()"
      ],
      "execution_count": null,
      "outputs": [
        {
          "output_type": "execute_result",
          "data": {
            "text/html": [
              "<div>\n",
              "<style scoped>\n",
              "    .dataframe tbody tr th:only-of-type {\n",
              "        vertical-align: middle;\n",
              "    }\n",
              "\n",
              "    .dataframe tbody tr th {\n",
              "        vertical-align: top;\n",
              "    }\n",
              "\n",
              "    .dataframe thead th {\n",
              "        text-align: right;\n",
              "    }\n",
              "</style>\n",
              "<table border=\"1\" class=\"dataframe\">\n",
              "  <thead>\n",
              "    <tr style=\"text-align: right;\">\n",
              "      <th></th>\n",
              "      <th>@id</th>\n",
              "      <th>http://www.w3.org/2004/02/skos/core#prefLabel</th>\n",
              "      <th>@type</th>\n",
              "      <th>http://www.w3.org/2004/02/skos/core#definition</th>\n",
              "      <th>http://www.w3.org/2004/02/skos/core#member</th>\n",
              "    </tr>\n",
              "  </thead>\n",
              "  <tbody>\n",
              "    <tr>\n",
              "      <th>0</th>\n",
              "      <td>http://vocab.nerc.ac.uk/collection/P07/current...</td>\n",
              "      <td>[{'@value': 'land_ice_mass_not_displacing_sea_...</td>\n",
              "      <td>NaN</td>\n",
              "      <td>NaN</td>\n",
              "      <td>NaN</td>\n",
              "    </tr>\n",
              "    <tr>\n",
              "      <th>1</th>\n",
              "      <td>http://vocab.nerc.ac.uk/collection/P07/current...</td>\n",
              "      <td>[{'@value': 'mass_fraction_of_cloud_liquid_wat...</td>\n",
              "      <td>NaN</td>\n",
              "      <td>NaN</td>\n",
              "      <td>NaN</td>\n",
              "    </tr>\n",
              "    <tr>\n",
              "      <th>2</th>\n",
              "      <td>http://vocab.nerc.ac.uk/collection/P07/current...</td>\n",
              "      <td>[{'@value': 'radioactivity_concentration_of_23...</td>\n",
              "      <td>NaN</td>\n",
              "      <td>NaN</td>\n",
              "      <td>NaN</td>\n",
              "    </tr>\n",
              "    <tr>\n",
              "      <th>3</th>\n",
              "      <td>http://vocab.nerc.ac.uk/collection/P07/current...</td>\n",
              "      <td>[{'@value': 'tendency_of_ocean_barotropic_stre...</td>\n",
              "      <td>NaN</td>\n",
              "      <td>NaN</td>\n",
              "      <td>NaN</td>\n",
              "    </tr>\n",
              "    <tr>\n",
              "      <th>4</th>\n",
              "      <td>http://vocab.nerc.ac.uk/collection/P07/current...</td>\n",
              "      <td>[{'@value': 'tendency_of_atmosphere_mass_conte...</td>\n",
              "      <td>NaN</td>\n",
              "      <td>NaN</td>\n",
              "      <td>NaN</td>\n",
              "    </tr>\n",
              "  </tbody>\n",
              "</table>\n",
              "</div>"
            ],
            "text/plain": [
              "                                                 @id  ... http://www.w3.org/2004/02/skos/core#member\n",
              "0  http://vocab.nerc.ac.uk/collection/P07/current...  ...                                        NaN\n",
              "1  http://vocab.nerc.ac.uk/collection/P07/current...  ...                                        NaN\n",
              "2  http://vocab.nerc.ac.uk/collection/P07/current...  ...                                        NaN\n",
              "3  http://vocab.nerc.ac.uk/collection/P07/current...  ...                                        NaN\n",
              "4  http://vocab.nerc.ac.uk/collection/P07/current...  ...                                        NaN\n",
              "\n",
              "[5 rows x 5 columns]"
            ]
          },
          "metadata": {},
          "execution_count": 30
        }
      ]
    },
    {
      "cell_type": "code",
      "metadata": {
        "id": "QQ6U6bGlsx7X"
      },
      "source": [
        "l=[]\n",
        "import json\n",
        "for i in range (len(dt)):\n",
        "    path = '?_profile=skos&_mediatype=application/json'\n",
        "    response1 = requests.get(dt['@id'][i]+path)\n",
        "    df= response1.json()\n",
        "    with open(\"nerc2.json\", \"w\") as file:\n",
        "      json.dump(df, file)\n",
        "    data = pd.read_json(\"nerc2.json\")\n",
        "    l.append(data)\n",
        "    \n",
        "\n"
      ],
      "execution_count": null,
      "outputs": []
    },
    {
      "cell_type": "code",
      "metadata": {
        "id": "drEJggJkKF2l"
      },
      "source": [
        "dt=pd.concat(l)\n",
        "dt1=pd.concat(l)"
      ],
      "execution_count": null,
      "outputs": []
    },
    {
      "cell_type": "code",
      "metadata": {
        "id": "WVi7CSSbWPgk"
      },
      "source": [
        "dt1.to_csv('nercA05.csv')"
      ],
      "execution_count": null,
      "outputs": []
    },
    {
      "cell_type": "code",
      "metadata": {
        "id": "NB6-_jDBK7Je"
      },
      "source": [
        "dt.to_excel('nerc_A05.xlsx')"
      ],
      "execution_count": null,
      "outputs": []
    }
  ]
}