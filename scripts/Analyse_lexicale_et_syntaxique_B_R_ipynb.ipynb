{
  "nbformat": 4,
  "nbformat_minor": 0,
  "metadata": {
    "colab": {
      "name": "FuzzyWuzzy_Levenshtein_B/R.ipynb.ipynb",
      "provenance": []
    },
    "kernelspec": {
      "name": "python3",
      "display_name": "Python 3"
    },
    "language_info": {
      "name": "python"
    }
  },
  "cells": [
    {
      "cell_type": "code",
      "metadata": {
        "id": "TPiPvcskvlmc"
      },
      "source": [
        "!pip install fuzzywuzzy\n",
        "!pip install Levenshtein\n",
        "!pip install nltk"
      ],
      "execution_count": null,
      "outputs": []
    },
    {
      "cell_type": "code",
      "metadata": {
        "id": "C2cmy0gbvqi3"
      },
      "source": [
        "import numpy as np\n",
        "import regex as re\n",
        "import pandas as pd\n",
        "import spacy\n",
        "import nltk\n",
        "nltk.download(\"book\")"
      ],
      "execution_count": null,
      "outputs": []
    },
    {
      "cell_type": "markdown",
      "metadata": {
        "id": "kUCFs5IvamjP"
      },
      "source": [
        "lire les fichiers\n"
      ]
    },
    {
      "cell_type": "code",
      "metadata": {
        "id": "qozlaKKmvtAj"
      },
      "source": [
        "data = pd.read_csv(\"scrapped_data_from_NVS_P07+A05.csv\")\n",
        "data_en = pd.read_csv(\"terms_EN_Sabrine.csv\")"
      ],
      "execution_count": null,
      "outputs": []
    },
    {
      "cell_type": "markdown",
      "metadata": {
        "id": "3tFv29wMa-In"
      },
      "source": [
        "créer une liste des termes standardisés des ressources"
      ]
    },
    {
      "cell_type": "code",
      "metadata": {
        "id": "5nB6QZyovwPu"
      },
      "source": [
        "L_ressource=[]\n",
        "dt=data.to_numpy()\n",
        "L_ressource = list(dt[0])\n",
        "print(L_ressource)"
      ],
      "execution_count": null,
      "outputs": []
    },
    {
      "cell_type": "markdown",
      "metadata": {
        "id": "0Oh3bSPPbJT5"
      },
      "source": [
        "créer une liste des termes candidats\n"
      ]
    },
    {
      "cell_type": "code",
      "metadata": {
        "id": "DDNIDmgavyQ8"
      },
      "source": [
        "L_BioTex= list(data_en['term'])\n",
        "print(L_BioTex)"
      ],
      "execution_count": null,
      "outputs": []
    },
    {
      "cell_type": "markdown",
      "metadata": {
        "id": "MGk-XOkwbN_9"
      },
      "source": [
        "nettoyage de la liste des termes candidats"
      ]
    },
    {
      "cell_type": "code",
      "metadata": {
        "id": "wb5lp5alv04f"
      },
      "source": [
        "def contains_num(s):\n",
        "  for i in s:\n",
        "    if i.isnumeric():\n",
        "      return True\n",
        "  return False\n",
        "contains_num(\"1000-m argo\")\n",
        "#s='18km sampling'\n",
        "#s.isalpha()"
      ],
      "execution_count": null,
      "outputs": []
    },
    {
      "cell_type": "code",
      "metadata": {
        "id": "Z7D-CDryv38_"
      },
      "source": [
        "def clean_num(s):\n",
        "  l=s.split(\" \")\n",
        "  for i in l:\n",
        "    if contains_num(i):\n",
        "      l.remove(i)\n",
        "  return  \" \".join(l)\n",
        "clean_num('0–2000-m')\n"
      ],
      "execution_count": null,
      "outputs": []
    },
    {
      "cell_type": "code",
      "metadata": {
        "id": "6EmQxeWKv7J-"
      },
      "source": [
        "def net(s):\n",
        "  l=s.split()\n",
        "  if len(l)>1:\n",
        "    if len(l[0])>len(l[1]):\n",
        "      return(l[0])\n",
        "    else:\n",
        "      return(l[1])\n",
        "  else:\n",
        "    return(s)"
      ],
      "execution_count": null,
      "outputs": []
    },
    {
      "cell_type": "code",
      "metadata": {
        "id": "LxHVZdgPv9tI"
      },
      "source": [
        "L_BioTex.remove(np.nan)\n",
        "L_BioTex.remove(np.nan)"
      ],
      "execution_count": null,
      "outputs": []
    },
    {
      "cell_type": "code",
      "metadata": {
        "id": "ASuVgNAXwCuM"
      },
      "source": [
        "l=[i for i in L_BioTex if contains_num(i) and len(i)>3]\n",
        "l=[re.sub(\"\\d+\", \"\", i) for i in l]\n",
        "l=[net(i) for i in l]\n",
        "l=[i.replace(\"-\",\" \") for i in l]\n",
        "l=[i for i in l if len(i)>3]\n",
        "l.remove(\"b ax\")\n",
        "list(set(l))"
      ],
      "execution_count": null,
      "outputs": []
    },
    {
      "cell_type": "code",
      "metadata": {
        "id": "UphowtRpwLAS"
      },
      "source": [
        "clean=[clean_num(i) for i in L_BioTex if contains_num(i)==False]\n",
        "clean=[i for i in clean if i!=None]"
      ],
      "execution_count": null,
      "outputs": []
    },
    {
      "cell_type": "code",
      "metadata": {
        "id": "vcrCCagmwOc2"
      },
      "source": [
        "clean+=l\n",
        "len(clean)\n",
        "clean=[i for i in clean if len(i)>3]\n",
        "\n",
        "clean"
      ],
      "execution_count": null,
      "outputs": []
    },
    {
      "cell_type": "markdown",
      "metadata": {
        "id": "aU5TTRN9bdV8"
      },
      "source": [
        "nettoyage de la liste des termes standardisés"
      ]
    },
    {
      "cell_type": "code",
      "metadata": {
        "id": "WFc7z8KQwRC_"
      },
      "source": [
        "L_ressource =[str(v).replace(\"_\",\" \") for v in L_ressource]\n",
        " L_ressource"
      ],
      "execution_count": null,
      "outputs": []
    },
    {
      "cell_type": "markdown",
      "metadata": {
        "id": "crNUQ2HUdyQK"
      },
      "source": [
        "**ANALYSE LEXICALE**"
      ]
    },
    {
      "cell_type": "markdown",
      "metadata": {
        "id": "BCgyHvGSbn7s"
      },
      "source": [
        "Application de fuzzywuzzy entre les 100 permiers termes candidats issus des fiches de métadonnées de catalogues ODATIS et les termes standardisés issus des ressources terminologiques NERC afin de calculer la mesure de similarité"
      ]
    },
    {
      "cell_type": "code",
      "metadata": {
        "id": "rsY6vfwJwU6s"
      },
      "source": [
        "from fuzzywuzzy import process, fuzz\n",
        "\n",
        "tab=np.empty\n",
        "tab=['terme issue de Biotex','terme issue de ressources','Ratios']\n",
        "df = pd.DataFrame(columns=tab)\n",
        "s = 0\n",
        "for i in range((len(clean)) :\n",
        "  str2Match = clean[i]\n",
        "  print(\"pour le terme : \", clean[i])\n",
        "  str0=[]\n",
        "  for j in range (len(L_ressource)) :\n",
        "    str0.append(L_ressource[j]) \n",
        "  strOptions = str0\n",
        "  Ratios = process.extract(str2Match,strOptions, limit=100)\n",
        "  print(Ratios)\n",
        "  for k in range(len(Ratios)):\n",
        "    L = [clean[i], Ratios[k][0], Ratios[k][1]]\n",
        "    df.loc[s]=L\n",
        "    s = s + 1\n",
        "  # You can also select the string with the highest matching percentage\n",
        "  #highest = process.extractOne(str2Match,strOptions)\n",
        "  #print(highest)"
      ],
      "execution_count": null,
      "outputs": []
    },
    {
      "cell_type": "code",
      "metadata": {
        "id": "h_m8HiuYwU93"
      },
      "source": [
        "df.to_excel('fuzz_B100_R100.xlsx')"
      ],
      "execution_count": null,
      "outputs": []
    },
    {
      "cell_type": "code",
      "metadata": {
        "id": "PZTUkGNWwVDH"
      },
      "source": [
        "df"
      ],
      "execution_count": null,
      "outputs": []
    },
    {
      "cell_type": "markdown",
      "metadata": {
        "id": "gsL04gC0cSZS"
      },
      "source": [
        "évaluation des resultats "
      ]
    },
    {
      "cell_type": "code",
      "metadata": {
        "id": "jO9YUk5vwVG9"
      },
      "source": [
        "# pour un seuil supérieur ou égal à 50%\n",
        "df2=df.loc[df['Ratios']>=50 ]\n",
        "df2\n",
        "df2.to_excel('fuzz_B100_100_50.xlsx')"
      ],
      "execution_count": null,
      "outputs": []
    },
    {
      "cell_type": "code",
      "metadata": {
        "id": "3Q3_G105wVKd"
      },
      "source": [
        "# pour un seuil supérieur ou égal à 60%\n",
        "df2=df.loc[df['Ratios']>=60 ]\n",
        "df2\n",
        "df2.to_excel('fuzz_B100_100_60.xlsx')"
      ],
      "execution_count": null,
      "outputs": []
    },
    {
      "cell_type": "code",
      "metadata": {
        "id": "IeckGMixchW8"
      },
      "source": [
        "# pour un seuil supérieur ou égal à 70%\n",
        "df2=df.loc[df['Ratios']>=70 ]\n",
        "df2\n",
        "df2.to_excel('fuzz_B100_100_80.xlsx')"
      ],
      "execution_count": null,
      "outputs": []
    },
    {
      "cell_type": "code",
      "metadata": {
        "id": "RLq23PNcchJ4"
      },
      "source": [
        "# pour un seuil supérieur ou égal à 80%\n",
        "df2=df.loc[df['Ratios']>=80 ]\n",
        "df2\n",
        "df2.to_excel('fuzz_B100_100_80.xlsx')"
      ],
      "execution_count": null,
      "outputs": []
    },
    {
      "cell_type": "code",
      "metadata": {
        "id": "uly25Vw1cqIG"
      },
      "source": [
        "## pour un seuil supérieur ou égal à 90%\n",
        "df2=df.loc[df['Ratios']>=90 ]\n",
        "df2\n",
        "df2.to_excel('fuzz_B100_100_90.xlsx')"
      ],
      "execution_count": null,
      "outputs": []
    },
    {
      "cell_type": "markdown",
      "metadata": {
        "id": "bZiw5-wBcP97"
      },
      "source": [
        "Application de Levenshtein entre les 100 permiers termes candidats issus des fiches de métadonnées de catalogues ODATIS et les termes standardisés issus des ressources terminologiques NERC afin de calculer la mesure de similarité"
      ]
    },
    {
      "cell_type": "code",
      "metadata": {
        "id": "JdY1i0aMwVOT"
      },
      "source": [
        "tab1=np.empty\n",
        "tab1=['terme issue de Biotex','terme issue de ressources','Ratios']\n",
        "df1 = pd.DataFrame(columns=tab1)\n",
        "s1 = 0\n",
        "import Levenshtein as lev\n",
        "def levCalclulate(str1, str2):\n",
        "    Distance = lev.distance(str1, str2)\n",
        "    #Ratio = 1 - lev.distance(str1, str2) / max(len(str1), len(str2))\n",
        "    Ratio = lev.ratio(str1, str2)\n",
        "    print(\"Levenshtein entre {0} et {1}\".format(str1, str2))\n",
        "    print(\"> Distance: {0}\\n> Ratio: {1}\\n\".format(Distance, Ratio))\n",
        "    return Ratio\n",
        "\n",
        "for i in range(100) :\n",
        "#for i in range(len(L_ressource)) :\n",
        "  str1 = clean[i]\n",
        "  print(\"pour le terme : \", clean[i])\n",
        "  for j in range(len(L_ressource)):\n",
        "    str2= L_ressource[j]\n",
        "    Ratios = levCalclulate(str1, str2)\n",
        "    print(Ratios)\n",
        "    L1 = [clean[i],L_ressource[j], Ratios]\n",
        "    df1.loc[s1]=L1\n",
        "    s1 = s1 + 1\n",
        "#df1.to_excel('lev_Ratio_B100_R(A05+P07).xlsx')"
      ],
      "execution_count": null,
      "outputs": []
    },
    {
      "cell_type": "code",
      "metadata": {
        "id": "WblokHwZwhak"
      },
      "source": [
        "df1.to_excel('lev_ratio_B100_R100.xlsx')"
      ],
      "execution_count": null,
      "outputs": []
    },
    {
      "cell_type": "code",
      "metadata": {
        "id": "hqNxVQD4whdu"
      },
      "source": [
        "df1"
      ],
      "execution_count": null,
      "outputs": []
    },
    {
      "cell_type": "markdown",
      "metadata": {
        "id": "0IoSs-tsdBpH"
      },
      "source": [
        "évaluation des résultats "
      ]
    },
    {
      "cell_type": "code",
      "metadata": {
        "id": "6ULV4mb1whgT"
      },
      "source": [
        "## pour un seuil supérieur ou égal à 50%\n",
        "df22=df1.loc[df1['Ratios']>=0.5 ]\n",
        "df22\n",
        "df22.to_excel('lev_ratio_B100_R100_50.xlsx')"
      ],
      "execution_count": null,
      "outputs": []
    },
    {
      "cell_type": "code",
      "metadata": {
        "id": "rA-nsbkldLjq"
      },
      "source": [
        "## pour un seuil supérieur ou égal à 60%\n",
        "df22=df1.loc[df1['Ratios']>=0.6 ]\n",
        "df22\n",
        "df22.to_excel('lev_ratio_B100_R100_60.xlsx')"
      ],
      "execution_count": null,
      "outputs": []
    },
    {
      "cell_type": "code",
      "metadata": {
        "id": "FScf-jKadLl2"
      },
      "source": [
        "## pour un seuil supérieur ou égal à 70%\n",
        "df22=df1.loc[df1['Ratios']>=0.7]\n",
        "df22\n",
        "df22.to_excel('lev_ratio_B100_R100_70.xlsx')"
      ],
      "execution_count": null,
      "outputs": []
    },
    {
      "cell_type": "code",
      "metadata": {
        "id": "KXccgHJiwVSf"
      },
      "source": [
        "## pour un seuil supérieur ou égal à 80%\n",
        "df22=df1.loc[df1['Ratios']>=0.8 ]\n",
        "df22\n",
        "df22.to_excel('lev_ratio_B100_R100_80.xlsx')"
      ],
      "execution_count": null,
      "outputs": []
    },
    {
      "cell_type": "markdown",
      "metadata": {
        "id": "GXowlNbbdi2W"
      },
      "source": [
        "**ANALYSE SYNTAXIQUE** "
      ]
    },
    {
      "cell_type": "code",
      "metadata": {
        "id": "uZfeHn97xuxA"
      },
      "source": [
        "from nltk import pos_tag"
      ],
      "execution_count": null,
      "outputs": []
    },
    {
      "cell_type": "code",
      "metadata": {
        "id": "Kn9Jdrmexu0K"
      },
      "source": [
        "s=[sentences.split() for sentences in clean]\n",
        "s"
      ],
      "execution_count": null,
      "outputs": []
    },
    {
      "cell_type": "code",
      "metadata": {
        "id": "_vZBXDZdxu4E"
      },
      "source": [
        "#v=[sentences.split() for sentences in L_ressource]\n",
        "#v"
      ],
      "execution_count": null,
      "outputs": []
    },
    {
      "cell_type": "code",
      "metadata": {
        "id": "lS7wbPC2x1jH"
      },
      "source": [
        "s1=[pos_tag(sent1) for sent1 in s]\n",
        "s1"
      ],
      "execution_count": null,
      "outputs": []
    },
    {
      "cell_type": "code",
      "metadata": {
        "id": "lrltXNynx30L"
      },
      "source": [
        "#v1=[pos_tag(sent) for sent in v]\n",
        "#v1"
      ],
      "execution_count": null,
      "outputs": []
    },
    {
      "cell_type": "code",
      "metadata": {
        "id": "fuTZ46nCx33K"
      },
      "source": [
        "#list1=eval(str(v1).replace(\"(\",\"\").replace(\")\",\"\"))\n",
        "list2=eval(str(s1).replace(\"(\",\"\").replace(\")\",\"\"))"
      ],
      "execution_count": null,
      "outputs": []
    },
    {
      "cell_type": "code",
      "metadata": {
        "id": "1YctOvAfx38V"
      },
      "source": [
        "#dt1=pd.DataFrame(list1)\n",
        "#df.info()\n",
        "dt2=pd.DataFrame(list2)"
      ],
      "execution_count": null,
      "outputs": []
    },
    {
      "cell_type": "code",
      "metadata": {
        "id": "oiEYcCYHx3_m"
      },
      "source": [
        "#dt1.columns=['Col1','Col2','Col3','Col4','Col5','Col6','Col7','Col8'] \n",
        "dt2.columns=['Col1','Col2','Col3','Col4'] "
      ],
      "execution_count": null,
      "outputs": []
    },
    {
      "cell_type": "code",
      "metadata": {
        "id": "mZgnkNJpx4En"
      },
      "source": [
        "dt1['terme issus de ressources']=dt1['Col1']+\" \"+dt1['Col3']+\" \"+dt1['Col5']+\" \"+dt1['Col7']\n",
        "dt1['patron']=dt1['Col2']+\" \"+dt1['Col4']+\" \"+dt1['Col6']+\" \"+dt1['Col8']\n",
        "#dt1.fillna(\"\",inplace=True)\n",
        "dt1['tête']=\"\"\n",
        "dt1\n"
      ],
      "execution_count": null,
      "outputs": []
    },
    {
      "cell_type": "markdown",
      "metadata": {
        "id": "YxSI6c_Qd9tB"
      },
      "source": [
        "Identifier les patrons syntaxiques"
      ]
    },
    {
      "cell_type": "code",
      "metadata": {
        "id": "YxFSbkm8yFm2"
      },
      "source": [
        "dt2['terme issus de Biotex']=dt2['Col1']+\" \"+dt2['Col3']\n",
        "dt2['patron']=dt2['Col2']+\" \"+dt2['Col4']\n",
        "#dt2.fillna(\"\",inplace=True)\n",
        "dt2"
      ],
      "execution_count": null,
      "outputs": []
    },
    {
      "cell_type": "markdown",
      "metadata": {
        "id": "qFYvV4hDeE6m"
      },
      "source": [
        "Identifier les combinaisons"
      ]
    },
    {
      "cell_type": "code",
      "metadata": {
        "id": "Qj0XLSKgyFxJ"
      },
      "source": [
        "#dt1.partron.unique().tolist()\n",
        "dt2.partron.unique().tolist()"
      ],
      "execution_count": null,
      "outputs": []
    },
    {
      "cell_type": "code",
      "metadata": {
        "id": "_83HEAyGyF4Q"
      },
      "source": [
        "def transform(df):\n",
        "  if (df['patron']=='NN ') or (df['patron']=='NNS ')or (df['patron']=='NNP ') or (df['patron']=='NN VBG') or (df['patron']=='VBG ') or (df['patron']=='JJ ') or (df['patron']=='NNS VBP')or (df['patron']=='VBG ') or (df['patron']=='JJ ') or (df['patron']=='NNS VBP ') :\n",
        "    return df['Col1']\n",
        "  if (df['patron']=='NN NN')or (df['patron']=='NNS NNS') or (df['patron']=='NN NNS')or (df['patron']=='NN NNP ') or (df['patron']=='NNS NN') or (df['patron']=='NNP NN') or (df['patron']=='JJ NN') or (df['patron']=='JJ NNS') or (df['patron']=='JJ NNP') or (df['patron']=='VBN NN') or (df['patron']=='VBG NNS')or (df['patron']=='VBG NN') or (df['patron']=='RB NNS')or (df['patron']=='RB NNP')or (df['patron']=='RB JJ')or (df['patron']=='RB NN'):\n",
        "    return df['Col3']\n",
        " "
      ],
      "execution_count": null,
      "outputs": []
    },
    {
      "cell_type": "code",
      "metadata": {
        "id": "nUUdpTNax4Gv"
      },
      "source": [
        "def transform1(df):\n",
        "  if (df['partron']=='NN   ') or (df['partron']=='NNP NN CD ')or (df['partron']=='NNP CC NN ') or (df['partron']=='NNS   ') or (df['partron']=='NNP JJ NN ')or (df['partron']=='NNP JJ NN ')or (df['partron']=='NNP NN CC NN')or (df['partron']=='NN NN  ') :                                                                                                                         \n",
        "    return df['Col1']\n",
        "  if (df['partron']=='NNP NN  ') or (df['partron']=='JJ NNS  ')or (df['partron']=='JJ NN  ')or (df['partron']=='NNP NNP  ')or (df['partron']=='JJ NNS  ')or (df['partron']=='VBN NNS  ')or (df['partron']=='IN NN  '):\n",
        "    return df['Col3']\n",
        "  if (df['partron']=='NN VBG') or (df['partron']=='VBG   ') or (df['partron']=='JJ   ') or (df['partron']=='NNS VBP') or (df['partron']=='RB   ') or (df['partron']=='VB   ')or (df['partron']=='NN NNS  '):\n",
        "    return df['Col1']"
      ],
      "execution_count": null,
      "outputs": []
    },
    {
      "cell_type": "markdown",
      "metadata": {
        "id": "6kBMXR8deMCs"
      },
      "source": [
        "Spécifier les têtes"
      ]
    },
    {
      "cell_type": "code",
      "metadata": {
        "id": "XhIIvin3x4JG"
      },
      "source": [
        "#dt1['tête'] = dt2.apply(transform1, axis=1)\n",
        "\n",
        "dt2['tête'] = dt2.apply(transform, axis=1)\n"
      ],
      "execution_count": null,
      "outputs": []
    },
    {
      "cell_type": "code",
      "metadata": {
        "id": "vaia8GxT2hI1"
      },
      "source": [
        "#dt1"
      ],
      "execution_count": null,
      "outputs": []
    },
    {
      "cell_type": "code",
      "metadata": {
        "id": "MtCsK0Oa2hRu"
      },
      "source": [
        "dt2"
      ],
      "execution_count": null,
      "outputs": []
    },
    {
      "cell_type": "code",
      "metadata": {
        "id": "hb90JK1x2l-W"
      },
      "source": [
        "#dt1.to_csv('Tête_R.CSV')\n",
        "#dt1.to_excel('Tête_R.xlsx')\n",
        "dt2.to_csv('Tête_B.CSV')\n",
        "dt2.to_excel('Tête_B.xlsx')"
      ],
      "execution_count": null,
      "outputs": []
    }
  ]
}